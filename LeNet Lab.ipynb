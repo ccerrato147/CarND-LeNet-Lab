{
    "metadata": {
        "widgets": {
            "version": "1.1.2", 
            "state": {}
        }, 
        "kernelspec": {
            "language": "python", 
            "display_name": "Python 3.5 (Experimental) with Spark 1.6", 
            "name": "python3"
        }, 
        "language_info": {
            "version": "3.5.2", 
            "file_extension": ".py", 
            "mimetype": "text/x-python", 
            "name": "python", 
            "nbconvert_exporter": "python", 
            "pygments_lexer": "ipython3", 
            "codemirror_mode": {
                "version": 3, 
                "name": "ipython"
            }
        }, 
        "anaconda-cloud": {}
    }, 
    "cells": [
        {
            "metadata": {}, 
            "cell_type": "markdown", 
            "source": "# LeNet Lab\n![LeNet Architecture](lenet.png)\nSource: Yan LeCun"
        }, 
        {
            "metadata": {}, 
            "cell_type": "markdown", 
            "source": "## Load Data\n\nLoad the MNIST data, which comes pre-loaded with TensorFlow.\n\nYou do not need to modify this section."
        }, 
        {
            "execution_count": 2, 
            "cell_type": "code", 
            "outputs": [
                {
                    "output_type": "stream", 
                    "name": "stdout", 
                    "text": "Extracting MNIST_data/train-images-idx3-ubyte.gz\nExtracting MNIST_data/train-labels-idx1-ubyte.gz\nExtracting MNIST_data/t10k-images-idx3-ubyte.gz\nExtracting MNIST_data/t10k-labels-idx1-ubyte.gz\n\nImage Shape : (28, 28, 1)\n\nTraining Set:   55000 samples\nValidation Set: 5000 samples\nTest Set:       10000 samples\n"
                }
            ], 
            "metadata": {}, 
            "source": "from tensorflow.examples.tutorials.mnist import input_data\n\nmnist = input_data.read_data_sets(\"MNIST_data/\", reshape=False)\nX_train, y_train           = mnist.train.images, mnist.train.labels\nX_validation, y_validation = mnist.validation.images, mnist.validation.labels\nX_test, y_test             = mnist.test.images, mnist.test.labels\n\nassert(len(X_train) == len(y_train))\nassert(len(X_validation) == len(y_validation))\nassert(len(X_test) == len(y_test))\n\nprint()\nprint(\"Image Shape : {}\".format(X_train[0].shape))\nprint()\nprint(\"Training Set:   {} samples\".format(len(X_train)))\nprint(\"Validation Set: {} samples\".format(len(X_validation)))\nprint(\"Test Set:       {} samples\".format(len(X_test)))"
        }, 
        {
            "metadata": {}, 
            "cell_type": "markdown", 
            "source": "The MNIST data that TensorFlow pre-loads comes as 28x28x1 images.\n\nHowever, the LeNet architecture only accepts 32x32xC images, where C is the number of color channels.\n\nIn order to reformat the MNIST data into a shape that LeNet will accept, we pad the data with two rows of zeros on the top and bottom, and two columns of zeros on the left and right (28+2+2 = 32).\n\nYou do not need to modify this section."
        }, 
        {
            "execution_count": null, 
            "cell_type": "code", 
            "outputs": [], 
            "metadata": {}, 
            "source": "import numpy as np\n\n# Pad images with 0s\nX_train      = np.pad(X_train, ((0,0),(2,2),(2,2),(0,0)), 'constant')\nX_validation = np.pad(X_validation, ((0,0),(2,2),(2,2),(0,0)), 'constant')\nX_test       = np.pad(X_test, ((0,0),(2,2),(2,2),(0,0)), 'constant')\n    \nprint(\"Updated Image Shape: {}\".format(X_train[0].shape))"
        }, 
        {
            "metadata": {}, 
            "cell_type": "markdown", 
            "source": "## Visualize Data\n\nView a sample from the dataset.\n\nYou do not need to modify this section."
        }, 
        {
            "execution_count": null, 
            "cell_type": "code", 
            "outputs": [], 
            "metadata": {}, 
            "source": "import random\nimport numpy as np\nimport matplotlib.pyplot as plt\n%matplotlib inline\n\nindex = random.randint(0, len(X_train))\nimage = X_train[index].squeeze()\n\nplt.figure(figsize=(1,1))\nplt.imshow(image, cmap=\"gray\")\nprint(y_train[index])"
        }, 
        {
            "metadata": {}, 
            "cell_type": "markdown", 
            "source": "## Preprocess Data\n\nShuffle the training data.\n\nYou do not need to modify this section."
        }, 
        {
            "execution_count": null, 
            "cell_type": "code", 
            "outputs": [], 
            "metadata": {}, 
            "source": "from sklearn.utils import shuffle\n\nX_train, y_train = shuffle(X_train, y_train)"
        }, 
        {
            "metadata": {}, 
            "cell_type": "markdown", 
            "source": "## Setup TensorFlow\nThe `EPOCH` and `BATCH_SIZE` values affect the training speed and model accuracy.\n\nYou do not need to modify this section."
        }, 
        {
            "execution_count": null, 
            "cell_type": "code", 
            "outputs": [], 
            "metadata": {
                "collapsed": true
            }, 
            "source": "import tensorflow as tf\n\nEPOCHS = 10\nBATCH_SIZE = 128"
        }, 
        {
            "metadata": {}, 
            "cell_type": "markdown", 
            "source": "## TODO: Implement LeNet-5\nImplement the [LeNet-5](http://yann.lecun.com/exdb/lenet/) neural network architecture.\n\nThis is the only cell you need to edit.\n### Input\nThe LeNet architecture accepts a 32x32xC image as input, where C is the number of color channels. Since MNIST images are grayscale, C is 1 in this case.\n\n### Architecture\n**Layer 1: Convolutional.** The output shape should be 28x28x6.\n\n**Activation.** Your choice of activation function.\n\n**Pooling.** The output shape should be 14x14x6.\n\n**Layer 2: Convolutional.** The output shape should be 10x10x16.\n\n**Activation.** Your choice of activation function.\n\n**Pooling.** The output shape should be 5x5x16.\n\n**Flatten.** Flatten the output shape of the final pooling layer such that it's 1D instead of 3D. The easiest way to do is by using `tf.contrib.layers.flatten`, which is already imported for you.\n\n**Layer 3: Fully Connected.** This should have 120 outputs.\n\n**Activation.** Your choice of activation function.\n\n**Layer 4: Fully Connected.** This should have 84 outputs.\n\n**Activation.** Your choice of activation function.\n\n**Layer 5: Fully Connected (Logits).** This should have 10 outputs.\n\n### Output\nReturn the result of the 2nd fully connected layer."
        }, 
        {
            "execution_count": null, 
            "cell_type": "code", 
            "outputs": [], 
            "metadata": {
                "collapsed": true
            }, 
            "source": "from tensorflow.contrib.layers import flatten\n\ndef LeNet(x):    \n    # Arguments used for tf.truncated_normal, randomly defines variables for the weights and biases for each layer\n    mu = 0\n    sigma = 0.1\n    \n    # TODO: Layer 1: Convolutional. Input = 32x32x1. Output = 28x28x6.\n\n    # TODO: Activation.\n\n    # TODO: Pooling. Input = 28x28x6. Output = 14x14x6.\n\n    # TODO: Layer 2: Convolutional. Output = 10x10x16.\n    \n    # TODO: Activation.\n\n    # TODO: Pooling. Input = 10x10x16. Output = 5x5x16.\n\n    # TODO: Flatten. Input = 5x5x16. Output = 400.\n    \n    # TODO: Layer 3: Fully Connected. Input = 400. Output = 120.\n    \n    # TODO: Activation.\n\n    # TODO: Layer 4: Fully Connected. Input = 120. Output = 84.\n    \n    # TODO: Activation.\n\n    # TODO: Layer 5: Fully Connected. Input = 84. Output = 10.\n    \n    return logits"
        }, 
        {
            "metadata": {}, 
            "cell_type": "markdown", 
            "source": "## Features and Labels\nTrain LeNet to classify [MNIST](http://yann.lecun.com/exdb/mnist/) data.\n\n`x` is a placeholder for a batch of input images.\n`y` is a placeholder for a batch of output labels.\n\nYou do not need to modify this section."
        }, 
        {
            "execution_count": null, 
            "cell_type": "code", 
            "outputs": [], 
            "metadata": {}, 
            "source": "x = tf.placeholder(tf.float32, (None, 32, 32, 1))\ny = tf.placeholder(tf.int32, (None))\none_hot_y = tf.one_hot(y, 10)"
        }, 
        {
            "metadata": {}, 
            "cell_type": "markdown", 
            "source": "## Training Pipeline\nCreate a training pipeline that uses the model to classify MNIST data.\n\nYou do not need to modify this section."
        }, 
        {
            "execution_count": null, 
            "cell_type": "code", 
            "outputs": [], 
            "metadata": {}, 
            "source": "rate = 0.001\n\nlogits = LeNet(x)\ncross_entropy = tf.nn.softmax_cross_entropy_with_logits(labels=one_hot_y, logits=logits)\nloss_operation = tf.reduce_mean(cross_entropy)\noptimizer = tf.train.AdamOptimizer(learning_rate = rate)\ntraining_operation = optimizer.minimize(loss_operation)"
        }, 
        {
            "metadata": {}, 
            "cell_type": "markdown", 
            "source": "## Model Evaluation\nEvaluate how well the loss and accuracy of the model for a given dataset.\n\nYou do not need to modify this section."
        }, 
        {
            "execution_count": null, 
            "cell_type": "code", 
            "outputs": [], 
            "metadata": {
                "collapsed": true
            }, 
            "source": "correct_prediction = tf.equal(tf.argmax(logits, 1), tf.argmax(one_hot_y, 1))\naccuracy_operation = tf.reduce_mean(tf.cast(correct_prediction, tf.float32))\nsaver = tf.train.Saver()\n\ndef evaluate(X_data, y_data):\n    num_examples = len(X_data)\n    total_accuracy = 0\n    sess = tf.get_default_session()\n    for offset in range(0, num_examples, BATCH_SIZE):\n        batch_x, batch_y = X_data[offset:offset+BATCH_SIZE], y_data[offset:offset+BATCH_SIZE]\n        accuracy = sess.run(accuracy_operation, feed_dict={x: batch_x, y: batch_y})\n        total_accuracy += (accuracy * len(batch_x))\n    return total_accuracy / num_examples"
        }, 
        {
            "metadata": {}, 
            "cell_type": "markdown", 
            "source": "## Train the Model\nRun the training data through the training pipeline to train the model.\n\nBefore each epoch, shuffle the training set.\n\nAfter each epoch, measure the loss and accuracy of the validation set.\n\nSave the model after training.\n\nYou do not need to modify this section."
        }, 
        {
            "execution_count": null, 
            "cell_type": "code", 
            "outputs": [], 
            "metadata": {}, 
            "source": "with tf.Session() as sess:\n    sess.run(tf.global_variables_initializer())\n    num_examples = len(X_train)\n    \n    print(\"Training...\")\n    print()\n    for i in range(EPOCHS):\n        X_train, y_train = shuffle(X_train, y_train)\n        for offset in range(0, num_examples, BATCH_SIZE):\n            end = offset + BATCH_SIZE\n            batch_x, batch_y = X_train[offset:end], y_train[offset:end]\n            sess.run(training_operation, feed_dict={x: batch_x, y: batch_y})\n            \n        validation_accuracy = evaluate(X_validation, y_validation)\n        print(\"EPOCH {} ...\".format(i+1))\n        print(\"Validation Accuracy = {:.3f}\".format(validation_accuracy))\n        print()\n        \n    saver.save(sess, './lenet')\n    print(\"Model saved\")"
        }, 
        {
            "metadata": {}, 
            "cell_type": "markdown", 
            "source": "## Evaluate the Model\nOnce you are completely satisfied with your model, evaluate the performance of the model on the test set.\n\nBe sure to only do this once!\n\nIf you were to measure the performance of your trained model on the test set, then improve your model, and then measure the performance of your model on the test set again, that would invalidate your test results. You wouldn't get a true measure of how well your model would perform against real data.\n\nYou do not need to modify this section."
        }, 
        {
            "execution_count": null, 
            "cell_type": "code", 
            "outputs": [], 
            "metadata": {}, 
            "source": "with tf.Session() as sess:\n    saver.restore(sess, tf.train.latest_checkpoint('.'))\n\n    test_accuracy = evaluate(X_test, y_test)\n    print(\"Test Accuracy = {:.3f}\".format(test_accuracy))"
        }
    ], 
    "nbformat": 4, 
    "nbformat_minor": 1
}