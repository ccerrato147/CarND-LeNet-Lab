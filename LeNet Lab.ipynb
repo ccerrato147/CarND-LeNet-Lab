{
    "cells": [
        {
            "cell_type": "markdown", 
            "metadata": {}, 
            "source": "# LeNet Lab\n![LeNet Architecture](lenet.png)\nSource: Yan LeCun"
        }, 
        {
            "cell_type": "markdown", 
            "metadata": {}, 
            "source": "## Load Data\n\nLoad the MNIST data, which comes pre-loaded with TensorFlow.\n\nYou do not need to modify this section."
        }, 
        {
            "cell_type": "code", 
            "metadata": {}, 
            "execution_count": 4, 
            "outputs": [
                {
                    "name": "stdout", 
                    "text": "Extracting MNIST_data/train-images-idx3-ubyte.gz\nExtracting MNIST_data/train-labels-idx1-ubyte.gz\nExtracting MNIST_data/t10k-images-idx3-ubyte.gz\nExtracting MNIST_data/t10k-labels-idx1-ubyte.gz\n\nImage Shape : (28, 28, 1)\n\nTraining Set:   55000 samples\nValidation Set: 5000 samples\nTest Set:       10000 samples\n", 
                    "output_type": "stream"
                }
            ], 
            "source": "from tensorflow.examples.tutorials.mnist import input_data\n\nmnist = input_data.read_data_sets(\"MNIST_data/\", reshape=False)\nX_train, y_train           = mnist.train.images, mnist.train.labels\nX_validation, y_validation = mnist.validation.images, mnist.validation.labels\nX_test, y_test             = mnist.test.images, mnist.test.labels\n\nassert(len(X_train) == len(y_train))\nassert(len(X_validation) == len(y_validation))\nassert(len(X_test) == len(y_test))\n\nprint()\nprint(\"Image Shape : {}\".format(X_train[0].shape))\nprint()\nprint(\"Training Set:   {} samples\".format(len(X_train)))\nprint(\"Validation Set: {} samples\".format(len(X_validation)))\nprint(\"Test Set:       {} samples\".format(len(X_test)))"
        }, 
        {
            "cell_type": "markdown", 
            "metadata": {}, 
            "source": "The MNIST data that TensorFlow pre-loads comes as 28x28x1 images.\n\nHowever, the LeNet architecture only accepts 32x32xC images, where C is the number of color channels.\n\nIn order to reformat the MNIST data into a shape that LeNet will accept, we pad the data with two rows of zeros on the top and bottom, and two columns of zeros on the left and right (28+2+2 = 32).\n\nYou do not need to modify this section."
        }, 
        {
            "cell_type": "code", 
            "metadata": {}, 
            "execution_count": 5, 
            "outputs": [
                {
                    "name": "stdout", 
                    "text": "Updated Image Shape: (32, 32, 1)\n", 
                    "output_type": "stream"
                }
            ], 
            "source": "import numpy as np\n\n# Pad images with 0s\nX_train      = np.pad(X_train, ((0,0),(2,2),(2,2),(0,0)), 'constant')\nX_validation = np.pad(X_validation, ((0,0),(2,2),(2,2),(0,0)), 'constant')\nX_test       = np.pad(X_test, ((0,0),(2,2),(2,2),(0,0)), 'constant')\n    \nprint(\"Updated Image Shape: {}\".format(X_train[0].shape))"
        }, 
        {
            "cell_type": "markdown", 
            "metadata": {}, 
            "source": "## Visualize Data\n\nView a sample from the dataset.\n\nYou do not need to modify this section."
        }, 
        {
            "cell_type": "code", 
            "metadata": {}, 
            "execution_count": 6, 
            "outputs": [
                {
                    "name": "stdout", 
                    "text": "3\n", 
                    "output_type": "stream"
                }, 
                {
                    "metadata": {}, 
                    "output_type": "display_data", 
                    "data": {
                        "image/png": "[encoded data removed]", 
                        "text/plain": "<matplotlib.figure.Figure at 0x7fb164079e10>"
                    }
                }
            ], 
            "source": "import random\nimport numpy as np\nimport matplotlib.pyplot as plt\n%matplotlib inline\n\nindex = random.randint(0, len(X_train))\nimage = X_train[index].squeeze()\n\nplt.figure(figsize=(2,2))\nplt.imshow(image, cmap=\"gray\")\nprint(y_train[index])"
        }, 
        {
            "cell_type": "markdown", 
            "metadata": {}, 
            "source": "## Preprocess Data\n\nShuffle the training data.\n\nYou do not need to modify this section."
        }, 
        {
            "cell_type": "code", 
            "metadata": {
                "collapsed": true
            }, 
            "execution_count": 7, 
            "outputs": [], 
            "source": "from sklearn.utils import shuffle\n\nX_train, y_train = shuffle(X_train, y_train)"
        }, 
        {
            "cell_type": "markdown", 
            "metadata": {}, 
            "source": "## Setup TensorFlow\nThe `EPOCH` and `BATCH_SIZE` values affect the training speed and model accuracy.\n\nYou do not need to modify this section."
        }, 
        {
            "cell_type": "code", 
            "metadata": {
                "collapsed": true
            }, 
            "execution_count": 8, 
            "outputs": [], 
            "source": "import tensorflow as tf\n\nEPOCHS = 10\nBATCH_SIZE = 128"
        }, 
        {
            "cell_type": "markdown", 
            "metadata": {}, 
            "source": "## TODO: Implement LeNet-5\nImplement the [LeNet-5](http://yann.lecun.com/exdb/lenet/) neural network architecture.\n\nThis is the only cell you need to edit.\n### Input\nThe LeNet architecture accepts a 32x32xC image as input, where C is the number of color channels. Since MNIST images are grayscale, C is 1 in this case.\n\n### Architecture\n**Layer 1: Convolutional.** The output shape should be 28x28x6.\n\n**Activation.** Your choice of activation function.\n\n**Pooling.** The output shape should be 14x14x6.\n\n**Layer 2: Convolutional.** The output shape should be 10x10x16.\n\n**Activation.** Your choice of activation function.\n\n**Pooling.** The output shape should be 5x5x16.\n\n**Flatten.** Flatten the output shape of the final pooling layer such that it's 1D instead of 3D. The easiest way to do is by using `tf.contrib.layers.flatten`, which is already imported for you.\n\n**Layer 3: Fully Connected.** This should have 120 outputs.\n\n**Activation.** Your choice of activation function.\n\n**Layer 4: Fully Connected.** This should have 84 outputs.\n\n**Activation.** Your choice of activation function.\n\n**Layer 5: Fully Connected (Logits).** This should have 10 outputs.\n\n### Output\nReturn the result of the 2nd fully connected layer."
        }, 
        {
            "cell_type": "code", 
            "metadata": {
                "collapsed": true
            }, 
            "execution_count": 9, 
            "outputs": [], 
            "source": "from tensorflow.contrib.layers import flatten\n\ndef LeNet(x):    \n    # Arguments used for tf.truncated_normal, randomly defines variables for the weights and biases for each layer\n    mu = 0\n    sigma = 0.1\n    \n    # TODO: Layer 1: Convolutional. Input = 32x32x1. Output = 28x28x6.\n    W1 = tf.Variable(tf.truncated_normal(shape=(5,5,1,6), mean=mu, stddev= sigma))\n    b1 = tf.Variable(tf.zeros(6))\n    conv1 = tf.nn.conv2d(x, W1, strides=[1,1,1,1], padding='VALID') + b1\n\n    # TODO: Activation.\n    relu1 = tf.nn.relu(conv1)\n\n    # TODO: Pooling. Input = 28x28x6. Output = 14x14x6.\n    pool = tf.nn.max_pool(relu1, ksize=[1,2,2,1], strides=[1,2,2,1], padding='VALID')\n\n    # TODO: Layer 2: Convolutional. Output = 10x10x16.\n    W2 = tf.Variable(tf.truncated_normal(shape=(5,5,6,16), mean=mu, stddev=sigma))\n    b2 = tf.Variable(tf.zeros(16))\n    conv2 = tf.nn.conv2d(pool, W2, strides=[1,1,1,1], padding='VALID') + b2\n    \n    # TODO: Activation.\n    relu2 = tf.nn.relu(conv2)    \n\n    # TODO: Pooling. Input = 10x10x16. Output = 5x5x16.\n    pool2 = tf.nn.max_pool(relu2, ksize=[1,2,2,1], strides=[1,2,2,1], padding='VALID')\n\n    # SOLUTION: Flatten. Input = 5x5x16. Output = 400.\n    fc0   = flatten(pool2)\n    \n    # SOLUTION: Layer 3: Fully Connected. Input = 400. Output = 120.\n    fc1_W = tf.Variable(tf.truncated_normal(shape=(400, 120), mean = mu, stddev = sigma))\n    fc1_b = tf.Variable(tf.zeros(120))\n    fc1   = tf.matmul(fc0, fc1_W) + fc1_b\n    \n    # SOLUTION: Activation.\n    fc1    = tf.nn.relu(fc1)\n\n    # SOLUTION: Layer 4: Fully Connected. Input = 120. Output = 84.\n    fc2_W  = tf.Variable(tf.truncated_normal(shape=(120, 84), mean = mu, stddev = sigma))\n    fc2_b  = tf.Variable(tf.zeros(84))\n    fc2    = tf.matmul(fc1, fc2_W) + fc2_b\n    \n    # SOLUTION: Activation.\n    fc2    = tf.nn.relu(fc2)\n\n    # SOLUTION: Layer 5: Fully Connected. Input = 84. Output = 10.\n    fc3_W  = tf.Variable(tf.truncated_normal(shape=(84, 10), mean = mu, stddev = sigma))\n    fc3_b  = tf.Variable(tf.zeros(10))\n    logits = tf.matmul(fc2, fc3_W) + fc3_b\n    \n    return logits"
        }, 
        {
            "cell_type": "markdown", 
            "metadata": {}, 
            "source": "## Features and Labels\nTrain LeNet to classify [MNIST](http://yann.lecun.com/exdb/mnist/) data.\n\n`x` is a placeholder for a batch of input images.\n`y` is a placeholder for a batch of output labels.\n\nYou do not need to modify this section."
        }, 
        {
            "cell_type": "code", 
            "metadata": {}, 
            "execution_count": 10, 
            "outputs": [
                {
                    "metadata": {}, 
                    "output_type": "execute_result", 
                    "data": {
                        "text/plain": "'1.2.1'"
                    }, 
                    "execution_count": 10
                }
            ], 
            "source": "x = tf.placeholder(tf.float32, (None, 32, 32, 1))\ny = tf.placeholder(tf.int32, (None))\none_hot_y = tf.one_hot(y, 10)\ntf.__version__"
        }, 
        {
            "cell_type": "markdown", 
            "metadata": {}, 
            "source": "## Training Pipeline\nCreate a training pipeline that uses the model to classify MNIST data.\n\nYou do not need to modify this section."
        }, 
        {
            "cell_type": "code", 
            "metadata": {
                "collapsed": true
            }, 
            "execution_count": 11, 
            "outputs": [], 
            "source": "rate = 0.001\n\nlogits = LeNet(x)\ncross_entropy = tf.nn.softmax_cross_entropy_with_logits(labels=one_hot_y, logits=logits)\nloss_operation = tf.reduce_mean(cross_entropy)\noptimizer = tf.train.AdamOptimizer(learning_rate = rate)\ntraining_operation = optimizer.minimize(loss_operation)"
        }, 
        {
            "cell_type": "markdown", 
            "metadata": {}, 
            "source": "## Model Evaluation\nEvaluate how well the loss and accuracy of the model for a given dataset.\n\nYou do not need to modify this section."
        }, 
        {
            "cell_type": "code", 
            "metadata": {
                "collapsed": true
            }, 
            "execution_count": 12, 
            "outputs": [], 
            "source": "correct_prediction = tf.equal(tf.argmax(logits, 1), tf.argmax(one_hot_y, 1))\naccuracy_operation = tf.reduce_mean(tf.cast(correct_prediction, tf.float32))\nsaver = tf.train.Saver()\n\ndef evaluate(X_data, y_data):\n    num_examples = len(X_data)\n    total_accuracy = 0\n    sess = tf.get_default_session()\n    for offset in range(0, num_examples, BATCH_SIZE):\n        batch_x, batch_y = X_data[offset:offset+BATCH_SIZE], y_data[offset:offset+BATCH_SIZE]\n        accuracy = sess.run(accuracy_operation, feed_dict={x: batch_x, y: batch_y})\n        total_accuracy += (accuracy * len(batch_x))\n    return total_accuracy / num_examples"
        }, 
        {
            "cell_type": "markdown", 
            "metadata": {}, 
            "source": "## Train the Model\nRun the training data through the training pipeline to train the model.\n\nBefore each epoch, shuffle the training set.\n\nAfter each epoch, measure the loss and accuracy of the validation set.\n\nSave the model after training.\n\nYou do not need to modify this section."
        }, 
        {
            "cell_type": "code", 
            "metadata": {}, 
            "execution_count": 13, 
            "outputs": [
                {
                    "name": "stdout", 
                    "text": "Training...\n\nEPOCH 1 ...\nValidation Accuracy = 0.971\n\nEPOCH 2 ...\nValidation Accuracy = 0.980\n\nEPOCH 3 ...\nValidation Accuracy = 0.984\n\nEPOCH 4 ...\nValidation Accuracy = 0.982\n\nEPOCH 5 ...\nValidation Accuracy = 0.987\n\nEPOCH 6 ...\nValidation Accuracy = 0.989\n\nEPOCH 7 ...\nValidation Accuracy = 0.986\n\nEPOCH 8 ...\nValidation Accuracy = 0.985\n\nEPOCH 9 ...\nValidation Accuracy = 0.989\n\nEPOCH 10 ...\nValidation Accuracy = 0.988\n\nModel saved\n", 
                    "output_type": "stream"
                }
            ], 
            "source": "with tf.Session() as sess:\n    sess.run(tf.global_variables_initializer())\n    num_examples = len(X_train)\n    \n    print(\"Training...\")\n    print()\n    for i in range(EPOCHS):\n        X_train, y_train = shuffle(X_train, y_train)\n        for offset in range(0, num_examples, BATCH_SIZE):\n            end = offset + BATCH_SIZE\n            batch_x, batch_y = X_train[offset:end], y_train[offset:end]\n            sess.run(training_operation, feed_dict={x: batch_x, y: batch_y})\n            \n        validation_accuracy = evaluate(X_validation, y_validation)\n        print(\"EPOCH {} ...\".format(i+1))\n        print(\"Validation Accuracy = {:.3f}\".format(validation_accuracy))\n        print()\n        \n    saver.save(sess, './lenet')\n    print(\"Model saved\")"
        }, 
        {
            "cell_type": "markdown", 
            "metadata": {}, 
            "source": "## Evaluate the Model\nOnce you are completely satisfied with your model, evaluate the performance of the model on the test set.\n\nBe sure to only do this once!\n\nIf you were to measure the performance of your trained model on the test set, then improve your model, and then measure the performance of your model on the test set again, that would invalidate your test results. You wouldn't get a true measure of how well your model would perform against real data.\n\nYou do not need to modify this section."
        }, 
        {
            "cell_type": "code", 
            "metadata": {}, 
            "execution_count": 14, 
            "outputs": [
                {
                    "name": "stdout", 
                    "text": "INFO:tensorflow:Restoring parameters from ./lenet\nTest Accuracy = 0.989\n", 
                    "output_type": "stream"
                }
            ], 
            "source": "with tf.Session() as sess:\n    saver.restore(sess, tf.train.latest_checkpoint('.'))\n\n    test_accuracy = evaluate(X_test, y_test)\n    print(\"Test Accuracy = {:.3f}\".format(test_accuracy))"
        }, 
        {
            "cell_type": "code", 
            "metadata": {
                "collapsed": true
            }, 
            "execution_count": null, 
            "outputs": [], 
            "source": ""
        }
    ], 
    "metadata": {
        "kernelspec": {
            "display_name": "Python 3.5 (Experimental) with Spark 1.6", 
            "name": "python3", 
            "language": "python"
        }, 
        "anaconda-cloud": {}, 
        "language_info": {
            "mimetype": "text/x-python", 
            "name": "python", 
            "pygments_lexer": "ipython3", 
            "version": "3.5.2", 
            "file_extension": ".py", 
            "codemirror_mode": {
                "version": 3, 
                "name": "ipython"
            }, 
            "nbconvert_exporter": "python"
        }, 
        "widgets": {
            "version": "1.1.2", 
            "state": {}
        }
    }, 
    "nbformat_minor": 1, 
    "nbformat": 4
}